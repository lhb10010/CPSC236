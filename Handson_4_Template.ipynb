{
 "cells": [
  {
   "cell_type": "markdown",
   "metadata": {},
   "source": [
    "# List and Tuples\n",
    "\n",
    "To submit this assignment in D2l, post the link to your notebook file on your GitHub account."
   ]
  },
  {
   "cell_type": "markdown",
   "metadata": {},
   "source": [
    "## 6.1 Prime Number Checker\n",
    "Create a program that checks whether a number is a prime number and displays its factors if it is not a prime number.\n",
    "\n",
    "### Console:\n",
    "```powershell\n",
    "Prime Number Checker\n",
    "\n",
    "Please enter an integer between 1 and 5000: 5\n",
    "5 is a prime number.\n",
    "\n",
    "Try again? (y/n): y\n",
    "\n",
    "Please enter an integer between 1 and 5000: 6\n",
    "6 is NOT a prime number.\n",
    "It has 4 factors: 1 2 3 6\n",
    "\n",
    "Try again? (y/n): y\n",
    "\n",
    "Please enter an integer between 1 and 5000: 200\n",
    "200 is NOT a prime number.\n",
    "It has 12 factors: 1 2 4 5 8 10 20 25 40 50 100 200\n",
    "\n",
    "Try again? (y/n): n\n",
    "\n",
    "Bye!\n",
    "```\n",
    "\n",
    "### Specifications:\n",
    "- A prime number is divisible by two factors (1 and itself). For example, 7 is a prime number because it is only divisible by 1 and 7.\n",
    "- If the user enters an integer that's not between 1 and 5000, the program should display an error message.\n",
    "- If the number is a prime number, the program should display a message.\n",
    "If the number is not a prime number, the program should display a message. Then, it should display the number of factors for the number and a list of those factors.\n",
    "- Store the factors for each number in a list.\n",
    "- Use functions to organize the code for this program.\n"
   ]
  },
  {
   "cell_type": "code",
   "execution_count": 5,
   "metadata": {},
   "outputs": [
    {
     "name": "stdout",
     "output_type": "stream",
     "text": [
      "Prime Number Generator\n"
     ]
    },
    {
     "name": "stdin",
     "output_type": "stream",
     "text": [
      "Please enter an integer between 1 and 5000:  4000\n"
     ]
    },
    {
     "name": "stdout",
     "output_type": "stream",
     "text": [
      "4000 is NOT a prime number.\n",
      "It has 24 factors: [1, 2, 4, 5, 8, 10, 16, 20, 25, 32, 40, 50, 80, 100, 125, 160, 200, 250, 400, 500, 800, 1000, 2000, 4000]\n"
     ]
    },
    {
     "name": "stdin",
     "output_type": "stream",
     "text": [
      "Try again? (y/n):  y\n",
      "Please enter an integer between 1 and 5000:  17\n"
     ]
    },
    {
     "name": "stdout",
     "output_type": "stream",
     "text": [
      "17 is a prime number.\n"
     ]
    },
    {
     "name": "stdin",
     "output_type": "stream",
     "text": [
      "Try again? (y/n):  y\n",
      "Please enter an integer between 1 and 5000:  1\n"
     ]
    },
    {
     "name": "stdout",
     "output_type": "stream",
     "text": [
      "1 is NOT a prime number.\n",
      "It has 1 factors: [1]\n"
     ]
    },
    {
     "name": "stdin",
     "output_type": "stream",
     "text": [
      "Try again? (y/n):  y\n",
      "Please enter an integer between 1 and 5000:  2\n"
     ]
    },
    {
     "name": "stdout",
     "output_type": "stream",
     "text": [
      "2 is a prime number.\n"
     ]
    },
    {
     "name": "stdin",
     "output_type": "stream",
     "text": [
      "Try again? (y/n):  n\n"
     ]
    },
    {
     "name": "stdout",
     "output_type": "stream",
     "text": [
      "Bye!\n"
     ]
    }
   ],
   "source": [
    "### CODE HERE ###\n",
    "\n",
    "def getFactors(num):\n",
    "    \n",
    "    factors = []\n",
    "    \n",
    "    for i in range(1, num + 1):\n",
    "        if num % i == 0:\n",
    "            factors.append(i)\n",
    "            \n",
    "    return factors\n",
    "\n",
    "\n",
    "def getValidInput():\n",
    "    \n",
    "    inp = int(input(\"Please enter an integer between 1 and 5000: \"))\n",
    "    while inp > 5000 or inp < 1:\n",
    "        \n",
    "        print(\"Error\")\n",
    "        inp = int(input(\"Please enter an integer between 1 and 5000: \"))\n",
    "    \n",
    "    return inp\n",
    "\n",
    "\n",
    "if __name__ == \"__main__\":\n",
    "    \n",
    "    print(\"Prime Number Generator\")\n",
    "    \n",
    "    while True:\n",
    "        \n",
    "        inp = getValidInput()\n",
    "            \n",
    "        factors = getFactors(inp)\n",
    "        \n",
    "        if len(factors) == 2:\n",
    "            \n",
    "            print(str(inp) + \" is a prime number.\")\n",
    "            \n",
    "        else:\n",
    "            \n",
    "            print(str(inp) + \" is NOT a prime number.\")\n",
    "            print(\"It has \" + str(len(factors)) + \" factors: \" + str(factors))\n",
    "            \n",
    "        inp = input(\"Try again? (y/n): \")\n",
    "        if not inp.lower() == \"y\":\n",
    "            break\n",
    "    \n",
    "    print(\"Bye!\")\n",
    "\n"
   ]
  },
  {
   "cell_type": "markdown",
   "metadata": {},
   "source": [
    "## 6.2 - Contact Manager\n",
    "Create a program that a user can use to manage the primary email address and phone number for a contact.\n",
    "\n",
    "### Console\n",
    "```powershell\n",
    "Contact Manager\n",
    "\n",
    "COMMAND MENU\n",
    "list - Display all contacts\n",
    "view - View a contact\n",
    "add - Add a contact\n",
    "del - Delete a contact\n",
    "exit - Exit program\n",
    "\n",
    "Command: list\n",
    "1. Guido van Rossum\n",
    "2. Eric Idle\n",
    "\n",
    "Command: view\n",
    "Number: 2\n",
    "Name: Eric Idle\n",
    "Email: eric@ericidle.com\n",
    "Phone: +44 20 7946 0958\n",
    "\n",
    "Command: add\n",
    "Name: Mike Murach\n",
    "Email: mike@murach.com\n",
    "Phone: 559-123-4567\n",
    "Mike Murach was added.\n",
    "\n",
    "Command: del\n",
    "Number: 1\n",
    "Guido van Rossum was deleted.\n",
    "\n",
    "Command: list\n",
    "1. Eric Idle\n",
    "2. Mike Murach\n",
    "\n",
    "Command: exit\n",
    "Bye!\n",
    "```\n",
    "\n",
    "### Specifications:\n",
    "- Use a list of lists to store the data for the contacts. Provide starting data for two or more contacts.\n",
    "- For the `view` and `del` commands, display an error message if the user enters and invalid contact number.\n",
    "- When you exit the program, all changes that you made to the contact list are lost.\n",
    "\n",
    "\n"
   ]
  },
  {
   "cell_type": "code",
   "execution_count": 3,
   "metadata": {},
   "outputs": [
    {
     "name": "stdout",
     "output_type": "stream",
     "text": [
      "Contact Manager\n",
      "\n",
      "COMMAND MENU\n",
      "list - Display all contacts\n",
      "view - View a contact\n",
      "add - Add a contact\n",
      "del - Delete a contact\n",
      "exit - Exit program\n",
      "\n"
     ]
    },
    {
     "name": "stdin",
     "output_type": "stream",
     "text": [
      "Command:  list\n"
     ]
    },
    {
     "name": "stdout",
     "output_type": "stream",
     "text": [
      "1. Eva King\n",
      "2. Ashton Marsh\n",
      "\n",
      "COMMAND MENU\n",
      "list - Display all contacts\n",
      "view - View a contact\n",
      "add - Add a contact\n",
      "del - Delete a contact\n",
      "exit - Exit program\n",
      "\n"
     ]
    },
    {
     "name": "stdin",
     "output_type": "stream",
     "text": [
      "Command:  view\n",
      "Number:  2\n"
     ]
    },
    {
     "name": "stdout",
     "output_type": "stream",
     "text": [
      "Name: Ashton Marsh\n",
      "Email: am@foo.com\n",
      "Phone: 724-222-2222\n",
      "\n",
      "COMMAND MENU\n",
      "list - Display all contacts\n",
      "view - View a contact\n",
      "add - Add a contact\n",
      "del - Delete a contact\n",
      "exit - Exit program\n",
      "\n"
     ]
    },
    {
     "name": "stdin",
     "output_type": "stream",
     "text": [
      "Command:  add\n",
      "Name:  Layne Burkhead\n",
      "Email:  lhb1001@sru.edu\n",
      "Phone:  7246055175\n"
     ]
    },
    {
     "name": "stdout",
     "output_type": "stream",
     "text": [
      "Layne Burkhead was added.\n",
      "\n",
      "COMMAND MENU\n",
      "list - Display all contacts\n",
      "view - View a contact\n",
      "add - Add a contact\n",
      "del - Delete a contact\n",
      "exit - Exit program\n",
      "\n"
     ]
    },
    {
     "name": "stdin",
     "output_type": "stream",
     "text": [
      "Command:  del\n",
      "Number:  3\n"
     ]
    },
    {
     "name": "stdout",
     "output_type": "stream",
     "text": [
      "Layne Burkhead was deleted.\n",
      "\n",
      "COMMAND MENU\n",
      "list - Display all contacts\n",
      "view - View a contact\n",
      "add - Add a contact\n",
      "del - Delete a contact\n",
      "exit - Exit program\n",
      "\n"
     ]
    },
    {
     "name": "stdin",
     "output_type": "stream",
     "text": [
      "Command:  exit\n"
     ]
    },
    {
     "name": "stdout",
     "output_type": "stream",
     "text": [
      "Bye!\n"
     ]
    }
   ],
   "source": [
    "### CODE HERE ###\n",
    "\n",
    "def displayMenu():\n",
    "    \n",
    "    print(\"\\nCOMMAND MENU\")\n",
    "    print(\"list - Display all contacts\")\n",
    "    print(\"view - View a contact\")\n",
    "    print(\"add - Add a contact\")\n",
    "    print(\"del - Delete a contact\")\n",
    "    print(\"exit - Exit program\\n\")\n",
    "    \n",
    "\n",
    "def list(contacts):\n",
    "    \n",
    "    i = 1\n",
    "    for contact in contacts:\n",
    "        print(str(i) + \". \" + contact[0])\n",
    "        i = i + 1\n",
    "\n",
    "        \n",
    "def add(contacts):\n",
    "    \n",
    "    name = input(\"Name: \")\n",
    "    email = input(\"Email: \")\n",
    "    phone = input(\"Phone: \")\n",
    "    \n",
    "    contact = []\n",
    "    contact.append(name)\n",
    "    contact.append(email)\n",
    "    contact.append(phone)\n",
    "    \n",
    "    contacts.append(contact)\n",
    "\n",
    "    print(name + \" was added.\")\n",
    "\n",
    "\n",
    "def view(contacts):\n",
    "\n",
    "    inp = int(input(\"Number: \"))\n",
    "    while inp > len(contacts) or inp < 1:\n",
    "        print(\"Invalid value, try again.\")\n",
    "        inp = int(input(\"Number: \"))\n",
    "\n",
    "    contact = contacts[inp - 1]\n",
    "    print(\"Name: \" + contact[0])\n",
    "    print(\"Email: \" + contact[1])\n",
    "    print(\"Phone: \" + contact[2])\n",
    "    \n",
    "    \n",
    "def delete(contacts):\n",
    "\n",
    "    inp = int(input(\"Number: \"))\n",
    "\n",
    "    while inp > len(contacts) or inp < 1:\n",
    "        print(\"Invalid value, try again.\")\n",
    "        inp = int(input(\"Number: \"))\n",
    "\n",
    "    name = contacts[inp - 1][0]\n",
    "\n",
    "    contacts.pop(inp - 1)\n",
    "\n",
    "    print(name + \" was deleted.\")\n",
    "    \n",
    "\n",
    "if __name__ == \"__main__\":\n",
    "    \n",
    "    print(\"Contact Manager\")\n",
    "    contact1 = [\"Eva King\", \"enk@foo.com\", \"724-111-1111\"]\n",
    "    contact2 = [\"Ashton Marsh\", \"am@foo.com\", \"724-222-2222\"]\n",
    "\n",
    "    contacts = [contact1, contact2]\n",
    "    \n",
    "    while True:\n",
    "        \n",
    "        displayMenu()\n",
    "        inp = input(\"Command: \")\n",
    "\n",
    "        if inp.lower() == \"list\":\n",
    "            list(contacts)\n",
    "        elif inp.lower() == \"view\":\n",
    "            view(contacts)\n",
    "        elif inp.lower() == \"add\":\n",
    "            add(contacts)\n",
    "        elif inp.lower() == \"del\":\n",
    "            delete(contacts)\n",
    "        elif inp.lower() == \"exit\":\n",
    "            break\n",
    "\n",
    "    \n",
    "    print(\"Bye!\")    \n",
    "        "
   ]
  },
  {
   "cell_type": "code",
   "execution_count": null,
   "metadata": {},
   "outputs": [],
   "source": []
  }
 ],
 "metadata": {
  "kernelspec": {
   "display_name": "Python 3 (ipykernel)",
   "language": "python",
   "name": "python3"
  },
  "language_info": {
   "codemirror_mode": {
    "name": "ipython",
    "version": 3
   },
   "file_extension": ".py",
   "mimetype": "text/x-python",
   "name": "python",
   "nbconvert_exporter": "python",
   "pygments_lexer": "ipython3",
   "version": "3.11.9"
  }
 },
 "nbformat": 4,
 "nbformat_minor": 4
}
