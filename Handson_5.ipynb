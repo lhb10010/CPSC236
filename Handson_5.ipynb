{
 "cells": [
  {
   "cell_type": "markdown",
   "metadata": {},
   "source": [
    "# File Input\n",
    "\n",
    "To submit this assignment in D2l, post the link to your notebook file on your GitHub account."
   ]
  },
  {
   "cell_type": "markdown",
   "metadata": {},
   "source": [
    "## 7.1 Pig Dice Rules\n",
    "Create a program that reads a list of rules from a file and displays them.\n",
    "\n",
    "### Console:\n",
    "```powershell\n",
    "Pig Dice Rules:\n",
    "*\tSee how many turns it takes you to get to 20.\n",
    "*\tTurn ends when player rolls a 1 or chooses to hold.\n",
    "*\tIf you roll a 1, you lose all points earned during the turn.\n",
    "*\tIf you hold, you save all points earned during the turn.\n",
    "```\n",
    "\n",
    "### Specifications:\n",
    "- Use the attached text file named `pig_dice_rules.txt` in the corresponding Directory.\n",
    "- Your program should read the text file and display it on the console.\n"
   ]
  },
  {
   "cell_type": "code",
   "execution_count": 2,
   "metadata": {},
   "outputs": [
    {
     "name": "stdout",
     "output_type": "stream",
     "text": [
      "Pig Dice Rules:\n",
      "* See how many turns it takes you to get to 20.\n",
      "* Turn ends when player rolls a 1 or chooses to hold.\n",
      "* If you roll a 1, you lose all points earned during the turn.\n",
      "* If you hold, you save all points earned during the turn.\n"
     ]
    }
   ],
   "source": [
    "### CODE HERE ###\n",
    "\n",
    "def displayRules():\n",
    "    \n",
    "    file = open(\"pig_dice_rules.txt\", 'r')\n",
    "    rulesString = file.read()\n",
    "    print(rulesString)\n",
    "    file.close()\n",
    "\n",
    "\n",
    "\n",
    "\n",
    "if __name__ == '__main__':\n",
    "    \n",
    "    displayRules()\n",
    "    \n",
    "    "
   ]
  },
  {
   "cell_type": "markdown",
   "metadata": {},
   "source": [
    "## 7.2 Wizard Inventory\n",
    "Create a program that keeps track of the items that a wizard can carry.\n",
    "\n",
    "### Console:\n",
    "```powershell\n",
    "The Wizard Inventroy Program\n",
    "\n",
    "COMMAND MENU\n",
    "walk - Walk down the path \n",
    "show - Show all items \n",
    "drop - Drop an item\n",
    "exit - Exit program\n",
    "\n",
    "Command: walk\n",
    "While walking down a path, you see a scroll of uncursing. \n",
    "Do you want to grab it? (y/n): y\n",
    "You picked up a scroll of uncursing.\n",
    "\n",
    "Command: walk\n",
    "While walking down a path, you see an unknown potion. \n",
    "Do you want to grab it? (y/n): y\n",
    "You can't carry any more items. Drop something first.\n",
    "\n",
    "Command: show\n",
    "1.\ta wooden staff\n",
    "2.\ta scroll of invisibility\n",
    "3.\ta crossbow\n",
    "4.\ta scroll of uncursing\n",
    "\n",
    "Command: drop Number: 3\n",
    "You dropped a crossbow.\n",
    "\n",
    "Command: exit \n",
    "Bye!\n",
    "```\n",
    "\n",
    "### Specifications:\n",
    "- Use the attached text file named `wizard_all_items.txt` that contains a list of all the items that a wizard can carry. (in the corresponding directory)\n",
    "- When the user selects the walk command, the program should read the items from the file, randomly pick one, and give the user the option to grab it.\n",
    "- Your program should create another file that stores the items that the wizard is carrying (`wizard_inventory.txt`). Make sure to update this file every time the user grabs or drops an item.\n",
    "- The wizard can only carry **four** items at a time.\n",
    "- For the drop command, display an error message if the user enters an invalid number for the item.\n",
    "\n"
   ]
  },
  {
   "cell_type": "code",
   "execution_count": 21,
   "metadata": {},
   "outputs": [
    {
     "name": "stdout",
     "output_type": "stream",
     "text": [
      "The Wizard Inventroy Program\n",
      "\n",
      "COMMAND MENU\n",
      "walk - Walk down the path \n",
      "show - Show all items \n",
      "drop - Drop an item\n",
      "exit - Exit program\n"
     ]
    },
    {
     "name": "stdin",
     "output_type": "stream",
     "text": [
      "Command:  walk\n"
     ]
    },
    {
     "name": "stdout",
     "output_type": "stream",
     "text": [
      "While walking down a path, you see a wooden staff\n",
      "\n"
     ]
    },
    {
     "name": "stdin",
     "output_type": "stream",
     "text": [
      "Do you want to grab it? (y/n):  y\n"
     ]
    },
    {
     "name": "stdout",
     "output_type": "stream",
     "text": [
      "You picked up a wooden staff\n",
      "\n",
      "COMMAND MENU\n",
      "walk - Walk down the path \n",
      "show - Show all items \n",
      "drop - Drop an item\n",
      "exit - Exit program\n"
     ]
    },
    {
     "name": "stdin",
     "output_type": "stream",
     "text": [
      "Command:  show\n"
     ]
    },
    {
     "name": "stdout",
     "output_type": "stream",
     "text": [
      "1 a wooden staff\n",
      "COMMAND MENU\n",
      "walk - Walk down the path \n",
      "show - Show all items \n",
      "drop - Drop an item\n",
      "exit - Exit program\n"
     ]
    },
    {
     "name": "stdin",
     "output_type": "stream",
     "text": [
      "Command:  walk\n"
     ]
    },
    {
     "name": "stdout",
     "output_type": "stream",
     "text": [
      "While walking down a path, you see a scroll of invisibility\n",
      "\n"
     ]
    },
    {
     "name": "stdin",
     "output_type": "stream",
     "text": [
      "Do you want to grab it? (y/n):  y\n"
     ]
    },
    {
     "name": "stdout",
     "output_type": "stream",
     "text": [
      "You picked up a scroll of invisibility\n",
      "\n",
      "COMMAND MENU\n",
      "walk - Walk down the path \n",
      "show - Show all items \n",
      "drop - Drop an item\n",
      "exit - Exit program\n"
     ]
    },
    {
     "name": "stdin",
     "output_type": "stream",
     "text": [
      "Command:  walk\n"
     ]
    },
    {
     "name": "stdout",
     "output_type": "stream",
     "text": [
      "While walking down a path, you see a wizard's cloak\n"
     ]
    },
    {
     "name": "stdin",
     "output_type": "stream",
     "text": [
      "Do you want to grab it? (y/n):  y\n"
     ]
    },
    {
     "name": "stdout",
     "output_type": "stream",
     "text": [
      "You picked up a wizard's cloak\n",
      "COMMAND MENU\n",
      "walk - Walk down the path \n",
      "show - Show all items \n",
      "drop - Drop an item\n",
      "exit - Exit program\n"
     ]
    },
    {
     "name": "stdin",
     "output_type": "stream",
     "text": [
      "Command:  walk\n"
     ]
    },
    {
     "name": "stdout",
     "output_type": "stream",
     "text": [
      "While walking down a path, you see a scroll of invisibility\n",
      "\n"
     ]
    },
    {
     "name": "stdin",
     "output_type": "stream",
     "text": [
      "Do you want to grab it? (y/n):  y\n"
     ]
    },
    {
     "name": "stdout",
     "output_type": "stream",
     "text": [
      "You picked up a scroll of invisibility\n",
      "\n",
      "COMMAND MENU\n",
      "walk - Walk down the path \n",
      "show - Show all items \n",
      "drop - Drop an item\n",
      "exit - Exit program\n"
     ]
    },
    {
     "name": "stdin",
     "output_type": "stream",
     "text": [
      "Command:  walk\n"
     ]
    },
    {
     "name": "stdout",
     "output_type": "stream",
     "text": [
      "While walking down a path, you see a crossbow\n",
      "\n"
     ]
    },
    {
     "name": "stdin",
     "output_type": "stream",
     "text": [
      "Do you want to grab it? (y/n):  y\n"
     ]
    },
    {
     "name": "stdout",
     "output_type": "stream",
     "text": [
      "You can't carry any more items. Drop something first.\n",
      "\n",
      "COMMAND MENU\n",
      "walk - Walk down the path \n",
      "show - Show all items \n",
      "drop - Drop an item\n",
      "exit - Exit program\n"
     ]
    },
    {
     "name": "stdin",
     "output_type": "stream",
     "text": [
      "Command:  show\n"
     ]
    },
    {
     "name": "stdout",
     "output_type": "stream",
     "text": [
      "1 a wooden staff\n",
      "2 a scroll of invisibility\n",
      "3 a wizard's cloak\n",
      "4 a scroll of invisibility\n",
      "COMMAND MENU\n",
      "walk - Walk down the path \n",
      "show - Show all items \n",
      "drop - Drop an item\n",
      "exit - Exit program\n"
     ]
    },
    {
     "name": "stdin",
     "output_type": "stream",
     "text": [
      "Command:  drop\n",
      "Number:  3\n"
     ]
    },
    {
     "name": "stdout",
     "output_type": "stream",
     "text": [
      "You dropped a wizard's cloak\n",
      "\n",
      "COMMAND MENU\n",
      "walk - Walk down the path \n",
      "show - Show all items \n",
      "drop - Drop an item\n",
      "exit - Exit program\n"
     ]
    },
    {
     "name": "stdin",
     "output_type": "stream",
     "text": [
      "Command:  show\n"
     ]
    },
    {
     "name": "stdout",
     "output_type": "stream",
     "text": [
      "1 a wooden staff\n",
      "2 a scroll of invisibility\n",
      "3 a scroll of invisibility\n",
      "COMMAND MENU\n",
      "walk - Walk down the path \n",
      "show - Show all items \n",
      "drop - Drop an item\n",
      "exit - Exit program\n"
     ]
    },
    {
     "name": "stdin",
     "output_type": "stream",
     "text": [
      "Command:  exit\n"
     ]
    },
    {
     "name": "stdout",
     "output_type": "stream",
     "text": [
      "Bye!\n"
     ]
    }
   ],
   "source": [
    "### CODE HERE ###\n",
    "\n",
    "import random\n",
    "\n",
    "\n",
    "def printMenu():\n",
    "    print(\"COMMAND MENU\\nwalk - Walk down the path \\nshow - Show all items \\ndrop - Drop an item\\nexit - Exit program\")\n",
    "    \n",
    "    \n",
    "def readItems(filename):\n",
    "    \n",
    "    file = open(filename, 'r')\n",
    "    \n",
    "    itemList = []\n",
    "    for i in file.readlines():\n",
    "        #print(\"\\\"\" + i + \"\\\"\" )\n",
    "        if not i == \"\\n\":\n",
    "            itemList.append(i)\n",
    "        \n",
    "    file.close()\n",
    "    \n",
    "    return itemList\n",
    "\n",
    "\n",
    "def writeNewList(filename, itemList):\n",
    "    \n",
    "    file = open(filename, 'w')\n",
    "    itemsString = \"\"\n",
    "    \n",
    "    for item in itemList:\n",
    "        itemsString = itemsString + str(item) + \"\\n\"\n",
    "\n",
    "    file.write(itemsString)\n",
    "    file.close()\n",
    "\n",
    "\n",
    "def walk():\n",
    "    \n",
    "    possibleItems = readItems(\"wizard_all_items.txt\")\n",
    "    itemNum = random.randint(0, len(possibleItems) - 1)\n",
    "    item = possibleItems[itemNum]\n",
    "    print(\"While walking down a path, you see \" + item)\n",
    "    \n",
    "    inp = input(\"Do you want to grab it? (y/n): \")\n",
    "    \n",
    "    if not inp.lower() == \"y\":\n",
    "        print(\"You leave \" + item + \" behind\")\n",
    "        \n",
    "    else:\n",
    "        \n",
    "        invItems = readItems(\"wizard_inventory.txt\")\n",
    "        if len(invItems) > 3:\n",
    "            print(\"You can't carry any more items. Drop something first.\\n\")\n",
    "            \n",
    "        else:\n",
    "            \n",
    "            invItems.append(item)\n",
    "            writeNewList(\"wizard_inventory.txt\", invItems)\n",
    "            print(\"You picked up \" + item)\n",
    "            \n",
    "\n",
    "def show():\n",
    "    \n",
    "    invItems = readItems(\"wizard_inventory.txt\")\n",
    "    #print(len(invItems))\n",
    "    for i in range(0, len(invItems)):\n",
    "        print(str(i + 1) + \" \" + invItems[i], end=\"\")\n",
    "            \n",
    "\n",
    "def drop():\n",
    "    \n",
    "    inp = int(input(\"Number: \"))\n",
    "    invItems = readItems(\"wizard_inventory.txt\")\n",
    "    item = invItems.pop(inp - 1)\n",
    "    \n",
    "    writeNewList(\"wizard_inventory.txt\", invItems)\n",
    "\n",
    "    print(\"You dropped \" + item)\n",
    "            \n",
    "            \n",
    "\n",
    "if __name__ == \"__main__\":\n",
    "    \n",
    "    print(\"The Wizard Inventroy Program\\n\")\n",
    "    writeNewList(\"wizard_inventory.txt\", [])\n",
    "\n",
    "    while(True):\n",
    "\n",
    "        printMenu()\n",
    "        inp = input(\"Command: \")\n",
    "        \n",
    "        if inp == \"walk\":\n",
    "            walk()\n",
    "        elif inp == \"show\":\n",
    "            show()\n",
    "        elif inp == \"drop\":\n",
    "            drop()\n",
    "        elif inp == \"exit\":   \n",
    "            break\n",
    "        else:\n",
    "            print(\"Invalid input, try again\")\n",
    "            \n",
    "    print(\"Bye!\")\n",
    "            \n",
    "            \n",
    "            \n"
   ]
  },
  {
   "cell_type": "markdown",
   "metadata": {},
   "source": [
    "## 7.3 Monthly Sales\n",
    "Create a program that reads the sales for 12 months from a file and calculates the total yearly sales as well as the average monthly sales. In addition, this program should let the user edit the sales for any month.\n",
    "\n",
    "### Console:\n",
    "```powershell\n",
    "Monthly Sales program\n",
    "\n",
    "COMMAND MENU\n",
    "monthly - View monthly sales \n",
    "yearly\t- View yearly sumary \n",
    "edit\t- Edit sales for a month \n",
    "exit\t- Exit program\n",
    "\n",
    "Command: monthly \n",
    "Jan - 14317\n",
    "Feb - 3903\n",
    "Mar - 1073\n",
    "Apr - 3463\n",
    "May - 2429\n",
    "Jun - 4324\n",
    "Jul - 9762\n",
    "Aug - 15578\n",
    "Sep - 2437\n",
    "Oct - 6735\n",
    "Nov - 88\n",
    "Dec - 2497\n",
    "\n",
    "Command: yearly\n",
    "Yearly total:\t66606\n",
    "Monthly average:\t5550.5\n",
    "\n",
    "Command: edit\n",
    "Three-letter Month: Nov Sales Amount: 8854\n",
    "Sales amount for Nov was modified.\n",
    "\n",
    "Command: exit Bye!\n",
    "```\n",
    "\n",
    "### Specifications:\n",
    "- Use the attached text file named CSV file named `monthly_sales.csv` that contains the month and sales data shown above.\n",
    "- For the edit command, display an error message if the user doesn’t enter a valid three-letter abbreviation for the month.\n",
    "- When the user edits the sales amount for a month, the data should be saved to the CSV file immediately. That way, no data is lost, even if the program crashes later.\n",
    "- Round the results of the monthly average to a maximum of 2 decimal digits."
   ]
  },
  {
   "cell_type": "code",
   "execution_count": 29,
   "metadata": {},
   "outputs": [
    {
     "name": "stdout",
     "output_type": "stream",
     "text": [
      "Monthly Sales program\n",
      "\n",
      "COMMAND MENU\n",
      "monthly - View monthly sales \n",
      "yearly\t- View yearly sumary \n",
      "edit\t- Edit sales for a month \n",
      "exit\t- Exit program\n"
     ]
    },
    {
     "name": "stdin",
     "output_type": "stream",
     "text": [
      "Command:  monthly\n"
     ]
    },
    {
     "name": "stdout",
     "output_type": "stream",
     "text": [
      "Jan - 4000\n",
      "Feb - 3903\n",
      "Mar - 1073\n",
      "Apr - 3463\n",
      "May - 2429\n",
      "Jun - 4324\n",
      "Jul - 9762\n",
      "Aug - 15578\n",
      "Sep - 2437\n",
      "Oct - 6735\n",
      "Nov - 88\n",
      "Dec - 2497\n",
      "\n",
      "COMMAND MENU\n",
      "monthly - View monthly sales \n",
      "yearly\t- View yearly sumary \n",
      "edit\t- Edit sales for a month \n",
      "exit\t- Exit program\n"
     ]
    },
    {
     "name": "stdin",
     "output_type": "stream",
     "text": [
      "Command:  yearly\n"
     ]
    },
    {
     "name": "stdout",
     "output_type": "stream",
     "text": [
      "Yearly total:\t56289.0\n",
      "Monthly average:\t4690.75\n",
      "\n",
      "COMMAND MENU\n",
      "monthly - View monthly sales \n",
      "yearly\t- View yearly sumary \n",
      "edit\t- Edit sales for a month \n",
      "exit\t- Exit program\n"
     ]
    },
    {
     "name": "stdin",
     "output_type": "stream",
     "text": [
      "Command:  edit\n",
      "Three-letter Month:  feb\n",
      "New Sales Amount:  4000\n"
     ]
    },
    {
     "name": "stdout",
     "output_type": "stream",
     "text": [
      "Sales amount for Feb was modified.\n",
      "\n",
      "COMMAND MENU\n",
      "monthly - View monthly sales \n",
      "yearly\t- View yearly sumary \n",
      "edit\t- Edit sales for a month \n",
      "exit\t- Exit program\n"
     ]
    },
    {
     "name": "stdin",
     "output_type": "stream",
     "text": [
      "Command:  monthly\n"
     ]
    },
    {
     "name": "stdout",
     "output_type": "stream",
     "text": [
      "Jan - 4000\n",
      "Feb - 4000\n",
      "Mar - 1073\n",
      "Apr - 3463\n",
      "May - 2429\n",
      "Jun - 4324\n",
      "Jul - 9762\n",
      "Aug - 15578\n",
      "Sep - 2437\n",
      "Oct - 6735\n",
      "Nov - 88\n",
      "Dec - 2497\n",
      "\n",
      "COMMAND MENU\n",
      "monthly - View monthly sales \n",
      "yearly\t- View yearly sumary \n",
      "edit\t- Edit sales for a month \n",
      "exit\t- Exit program\n"
     ]
    },
    {
     "name": "stdin",
     "output_type": "stream",
     "text": [
      "Command:  yearly\n"
     ]
    },
    {
     "name": "stdout",
     "output_type": "stream",
     "text": [
      "Yearly total:\t56386.0\n",
      "Monthly average:\t4698.833333333333\n",
      "\n",
      "COMMAND MENU\n",
      "monthly - View monthly sales \n",
      "yearly\t- View yearly sumary \n",
      "edit\t- Edit sales for a month \n",
      "exit\t- Exit program\n"
     ]
    },
    {
     "name": "stdin",
     "output_type": "stream",
     "text": [
      "Command:  exit\n"
     ]
    },
    {
     "name": "stdout",
     "output_type": "stream",
     "text": [
      "Bye!\n"
     ]
    }
   ],
   "source": [
    "### CODE HERE ###\n",
    "import csv\n",
    "\n",
    "def showMenu():\n",
    "    \n",
    "    print(\"COMMAND MENU\\nmonthly - View monthly sales \\nyearly\t- View yearly sumary \\nedit\t- Edit sales for a month \\nexit\t- Exit program\")\n",
    "\n",
    "\n",
    "def getRowsList(filename):\n",
    "\n",
    "    monthList = []\n",
    "\n",
    "    with open(filename, newline=\"\") as file:\n",
    "        reader = csv.reader(file)\n",
    "        for row in reader:\n",
    "            monthList.append(row)\n",
    "\n",
    "    file.close()\n",
    "    \n",
    "    return monthList\n",
    "\n",
    "\n",
    "def writeNewValues(filename, newList):\n",
    "\n",
    "    with open(filename, \"w\", newline=\"\") as file:\n",
    "        writer = csv.writer(file)\n",
    "        writer.writerows(newList)\n",
    "        file.close()\n",
    "\n",
    "\n",
    "def month():\n",
    "\n",
    "    monthList = getRowsList(\"monthly_sales.csv\")\n",
    "    for month in monthList:\n",
    "        print(month[0] + \" - \" + str(month[1]))\n",
    "\n",
    "    print(\"\")\n",
    "\n",
    "\n",
    "def year():\n",
    "\n",
    "    monthList = getRowsList(\"monthly_sales.csv\")\n",
    "    yearTotal = 0\n",
    "\n",
    "    for month in monthList:\n",
    "        yearTotal = yearTotal + float(month[1])\n",
    "\n",
    "    print(\"Yearly total:\\t\" + str(yearTotal))\n",
    "    print(\"Monthly average:\\t\" + str(yearTotal / 12) + \"\\n\")\n",
    "\n",
    "\n",
    "def edit():\n",
    "\n",
    "    inp = input(\"Three-letter Month: \")\n",
    "    monthList = getRowsList(\"monthly_sales.csv\")\n",
    "    targetMonth = []\n",
    "\n",
    "    for month in monthList:\n",
    "        if month[0].lower() == inp.lower():\n",
    "            targetMonth = month\n",
    "            break\n",
    "\n",
    "    inp = int(input(\"New Sales Amount: \"))\n",
    "    targetMonth[1] = inp\n",
    "    writeNewValues(\"monthly_sales.csv\", monthList)\n",
    "    print(\"Sales amount for \" + targetMonth[0] + \" was modified.\\n\")\n",
    "\n",
    "\n",
    "if __name__ == \"__main__\":\n",
    "    \n",
    "    print(\"Monthly Sales program\\n\")\n",
    "\n",
    "    while(True):\n",
    "\n",
    "        showMenu()\n",
    "        inp = input(\"Command: \")\n",
    "        \n",
    "        if inp == \"monthly\":\n",
    "            month()\n",
    "        elif inp == \"yearly\":\n",
    "            year()\n",
    "        elif inp == \"edit\":\n",
    "            edit()\n",
    "        elif inp == \"exit\":   \n",
    "            break\n",
    "        else:\n",
    "            print(\"Invalid input, try again\")\n",
    "            \n",
    "    print(\"Bye!\")"
   ]
  },
  {
   "cell_type": "code",
   "execution_count": null,
   "metadata": {},
   "outputs": [],
   "source": []
  }
 ],
 "metadata": {
  "kernelspec": {
   "display_name": "Python 3 (ipykernel)",
   "language": "python",
   "name": "python3"
  },
  "language_info": {
   "codemirror_mode": {
    "name": "ipython",
    "version": 3
   },
   "file_extension": ".py",
   "mimetype": "text/x-python",
   "name": "python",
   "nbconvert_exporter": "python",
   "pygments_lexer": "ipython3",
   "version": "3.11.9"
  }
 },
 "nbformat": 4,
 "nbformat_minor": 4
}
